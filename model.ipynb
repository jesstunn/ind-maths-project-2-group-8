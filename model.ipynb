{
 "cells": [
  {
   "cell_type": "markdown",
   "metadata": {},
   "source": [
    "# model.ipynb\n",
    "\n",
    "A more organised notebook that runs the model"
   ]
  },
  {
   "cell_type": "markdown",
   "metadata": {},
   "source": [
    "Imports"
   ]
  },
  {
   "cell_type": "code",
   "execution_count": 293,
   "metadata": {},
   "outputs": [],
   "source": [
    "import matplotlib.pyplot as plt\n",
    "import numpy as np\n",
    "from IPython.display import display, clear_output\n",
    "import matplotlib.animation as animation\n",
    "from matplotlib.animation import FuncAnimation"
   ]
  },
  {
   "cell_type": "markdown",
   "metadata": {},
   "source": [
    "# Model Parameters"
   ]
  },
  {
   "cell_type": "code",
   "execution_count": 294,
   "metadata": {},
   "outputs": [],
   "source": [
    "# # Birds\n",
    "v0 = 1.0      # velocity of birds (constant)\n",
    "eta = 0.5      # maximum random fluctuation in angle (in radians)\n",
    "R_bird = 1        # interaction radius (bird-bird)\n",
    "Rsq = R_bird**2     # square of the interaction radius\n",
    "N = 25    # number of birds\n",
    "\n",
    "\n",
    "# # Time parameters\n",
    "dt = 0.2      # time step\n",
    "Nt = 50       # number of time steps\n",
    "\n",
    "# # Area parameters\n",
    "L = 10       # size of box (Area of a real wind farm)\n",
    "\n",
    "\n",
    "# # Obstacles\n",
    "R_obs = 0.5 # interaction radius (bird - obstacles)\n",
    "fov_angle = np.pi # Field of View of birds\n",
    "\n",
    "\n",
    "# # Wind\n",
    "v0_wind = 0.5 # velocity of wind (constant)\n",
    "v_wind_noise = 0.1 # maximum random fluctuation in wind velocity (in same units as v0_wind)\n",
    "wind_theta = 0 # wind direction \n",
    "\n",
    "\n",
    "#np.random.seed(17)      # set the random number generator seed"
   ]
  },
  {
   "cell_type": "markdown",
   "metadata": {},
   "source": [
    "# Starting position"
   ]
  },
  {
   "cell_type": "code",
   "execution_count": 295,
   "metadata": {},
   "outputs": [],
   "source": [
    "def add_noise_theta(theta, eta, N):\n",
    "    '''\n",
    "    Update theta with a random amount of noise between -eta/2 and eta/2\n",
    "    '''\n",
    "    theta += eta * (np.random.rand(N, 1) - 0.5)\n",
    "    \n",
    "    return theta"
   ]
  },
  {
   "cell_type": "code",
   "execution_count": 296,
   "metadata": {},
   "outputs": [],
   "source": [
    "def initialize_birds_random(N, L, v0):\n",
    "    '''\n",
    "    Set initial positions, direction, and velocities \n",
    "    '''\n",
    "    # Bird positions\n",
    "    x = np.random.rand(N, 1)*L\n",
    "    y = np.random.rand(N, 1)*L\n",
    "\n",
    "    # Bird velocities\n",
    "    theta = 2 * np.pi * np.random.rand(N, 1)\n",
    "    vx = v0 * np.cos(theta)\n",
    "    vy = v0 * np.sin(theta)\n",
    "\n",
    "    return x, y, vx, vy, theta"
   ]
  },
  {
   "cell_type": "code",
   "execution_count": 297,
   "metadata": {},
   "outputs": [],
   "source": [
    "def initialize_birds_uniform(N, L, v0, theta_start, eta):\n",
    "    '''\n",
    "    Set initial positions as a uniform placement starting at the edge of the box.\n",
    "    Set direction and velocity to be uniform with a small amount of noise \n",
    "    '''\n",
    "    \n",
    "    # Set bird initial flock as a square\n",
    "    N_per_side = int(np.sqrt(N))\n",
    "    \n",
    "    # Midpoint of area \n",
    "    midpoint = L//2\n",
    "    \n",
    "    # Define the x locations (start in centre of perimeter)\n",
    "    half_length = N_per_side // 2\n",
    "    start = midpoint - half_length\n",
    "    x_locs = np.arange(start, start + N_per_side)\n",
    "    \n",
    "    # Define the y locations (start from bottom)\n",
    "    y_locs = np.arange(0, N_per_side)\n",
    "    \n",
    "    # Define bird starting points\n",
    "    # Initialise lists\n",
    "    x = []\n",
    "    y = []\n",
    "    \n",
    "    for x_loc in x_locs:\n",
    "        for y_loc in y_locs:\n",
    "            x.append([x_loc])\n",
    "            y.append([y_loc])\n",
    "    \n",
    "    # Turn into numpy arrays\n",
    "    x = np.array(x, dtype=float)\n",
    "    y = np.array(y, dtype=float)\n",
    "    \n",
    "    # Bird Angle\n",
    "    # Make all birds same starting angle\n",
    "    theta = np.ones((len(x),1))*theta_start\n",
    "    \n",
    "    # Add noise\n",
    "    theta = add_noise_theta(theta, eta, N)\n",
    "    \n",
    "    \n",
    "    # Bird velocities\n",
    "    vx = v0 * np.cos(theta)\n",
    "    vy = v0 * np.sin(theta)\n",
    "    \n",
    "    \n",
    "    return x, y, vx, vy, theta"
   ]
  },
  {
   "cell_type": "code",
   "execution_count": 298,
   "metadata": {},
   "outputs": [
    {
     "data": {
      "text/plain": [
       "array([[-0.7968383 ],\n",
       "       [ 0.81977234],\n",
       "       [-0.34607725],\n",
       "       [ 0.99154343],\n",
       "       [ 0.50195522],\n",
       "       [-0.11793091],\n",
       "       [-0.75779176],\n",
       "       [-0.38751176],\n",
       "       [ 0.71127831],\n",
       "       [ 0.9910659 ],\n",
       "       [-0.14355104],\n",
       "       [ 0.99124631],\n",
       "       [-0.22125184],\n",
       "       [-0.84475028],\n",
       "       [-0.04496537],\n",
       "       [ 0.5852691 ],\n",
       "       [ 0.14116895],\n",
       "       [-0.97689225],\n",
       "       [ 0.94713717],\n",
       "       [ 0.19918949],\n",
       "       [-0.99467764],\n",
       "       [ 0.66933933],\n",
       "       [ 0.23008895],\n",
       "       [-0.9981786 ],\n",
       "       [-0.78616148]])"
      ]
     },
     "execution_count": 298,
     "metadata": {},
     "output_type": "execute_result"
    }
   ],
   "source": [
    "x, y, vx, vy, theta = initialize_birds_random(N, L, v0)\n",
    "vx"
   ]
  },
  {
   "cell_type": "code",
   "execution_count": 299,
   "metadata": {},
   "outputs": [
    {
     "data": {
      "text/plain": [
       "array([[3.],\n",
       "       [3.],\n",
       "       [3.],\n",
       "       [3.],\n",
       "       [3.],\n",
       "       [4.],\n",
       "       [4.],\n",
       "       [4.],\n",
       "       [4.],\n",
       "       [4.],\n",
       "       [5.],\n",
       "       [5.],\n",
       "       [5.],\n",
       "       [5.],\n",
       "       [5.],\n",
       "       [6.],\n",
       "       [6.],\n",
       "       [6.],\n",
       "       [6.],\n",
       "       [6.],\n",
       "       [7.],\n",
       "       [7.],\n",
       "       [7.],\n",
       "       [7.],\n",
       "       [7.]])"
      ]
     },
     "execution_count": 299,
     "metadata": {},
     "output_type": "execute_result"
    }
   ],
   "source": [
    "theta_start=0\n",
    "x, y, vx, vy, theta = initialize_birds_uniform(N, L, v0, theta_start, eta)\n",
    "x"
   ]
  },
  {
   "cell_type": "markdown",
   "metadata": {},
   "source": [
    "# Obstacles"
   ]
  },
  {
   "cell_type": "markdown",
   "metadata": {},
   "source": [
    "### Functions"
   ]
  },
  {
   "cell_type": "code",
   "execution_count": 300,
   "metadata": {},
   "outputs": [],
   "source": [
    "def make_circular_obstacle(x_centre, y_centre, R, n=20):\n",
    "    '''\n",
    "    Returns x,y points defining a circular obstacle\n",
    "    '''\n",
    "    angles = np.linspace(0, 2 * np.pi, n)\n",
    "    \n",
    "    x = x_centre + R*np.cos(angles)\n",
    "    y = y_centre + R*np.sin(angles)\n",
    "    \n",
    "    return x, y\n",
    "\n",
    "\n",
    "def make_rectangular_obstacle(x_centre, y_centre, L1, L2, n=25):\n",
    "    '''\n",
    "    Returns x,y points defining a rectangular obstacle\n",
    "    '''\n",
    "    \n",
    "    # Number of points per side\n",
    "    points_per_side = n // 4\n",
    "    \n",
    "    # Half lengths for width and height\n",
    "    l1 = L1 / 2\n",
    "    l2 = L2 / 2\n",
    "    \n",
    "    # Corners of the rectangle\n",
    "    top_left = [x_centre - l1, y_centre + l2]\n",
    "    top_right = [x_centre + l1, y_centre + l2]\n",
    "    bottom_left = [x_centre - l1, y_centre - l2]\n",
    "    bottom_right = [x_centre + l1, y_centre - l2]\n",
    "    \n",
    "    # Initialize lists for x and y points\n",
    "    x_points = []\n",
    "    y_points = []\n",
    "    \n",
    "    # Generate points along each side\n",
    "    # Top edge (left to right)\n",
    "    x_points.extend(np.linspace(top_left[0], top_right[0], points_per_side))\n",
    "    y_points.extend([top_left[1]] * points_per_side)\n",
    "    \n",
    "    # Right edge (top to bottom)\n",
    "    x_points.extend([top_right[0]] * points_per_side)\n",
    "    y_points.extend(np.linspace(top_right[1], bottom_right[1], points_per_side))\n",
    "    \n",
    "    # Bottom edge (right to left)\n",
    "    x_points.extend(np.linspace(bottom_right[0], bottom_left[0], points_per_side))\n",
    "    y_points.extend([bottom_left[1]] * points_per_side)\n",
    "    \n",
    "    # Left edge (bottom to top)\n",
    "    x_points.extend([bottom_left[0]] * points_per_side)\n",
    "    y_points.extend(np.linspace(bottom_left[1], top_left[1], points_per_side))\n",
    "    \n",
    "    return x_points, y_points\n",
    "\n",
    "def get_obstacle_centre_grid(L, num_obstacles, nrows, ncols):\n",
    "    '''\n",
    "    Define the centre of obstacles based on a grid.\n",
    "    '''\n",
    "    x_spacing = L / (ncols + 1)\n",
    "    y_spacing = L / (nrows + 1)\n",
    "    \n",
    "    x_centres = []\n",
    "    y_centres = []\n",
    "\n",
    "    # Calc grid positions\n",
    "    cnt = 0\n",
    "    for i in range(nrows):\n",
    "        for j in range(ncols):\n",
    "            if cnt > num_obstacles:\n",
    "                break\n",
    "        \n",
    "            # Calculate centre positions\n",
    "            x_centre = (j + 1) * x_spacing\n",
    "            y_centre = (i + 1) * y_spacing\n",
    "            x_centres.append(x_centre)\n",
    "            y_centres.append(y_centre)\n",
    "            cnt += 1\n",
    "    \n",
    "    return x_centres, y_centres\n",
    "\n",
    "def get_obstacles(L, num_obstacles, nrows, ncols):\n",
    "    '''\n",
    "    Call the obstacle functions and get lists of their x, y points\n",
    "    '''\n",
    "    \n",
    "    x_centres, y_centres = get_obstacle_centre_grid(L, num_obstacles, nrows=nrows, ncols=ncols)\n",
    "    \n",
    "    # Initalise lists\n",
    "    x_obstacle_list = []\n",
    "    y_obstacle_list = []\n",
    "    \n",
    "    for i in range(num_obstacles):\n",
    "        # Make circular obstacles\n",
    "        x_obs, y_obs = make_circular_obstacle(x_centres[i], y_centres[i], R=0.25, n=20)\n",
    "        \n",
    "        # Make rectangular obstacles\n",
    "        # x_obs, y_obs = make_rectangular_obstacle(x_centres[i], y_centres[i], L1=1, L2=0.2, n=25)\n",
    "        \n",
    "        x_obstacle_list.append(x_obs)\n",
    "        y_obstacle_list.append(y_obs)\n",
    "    \n",
    "    # Concatenate lists for analysis\n",
    "    x_obstacle = np.concatenate(x_obstacle_list)\n",
    "    y_obstacle = np.concatenate(y_obstacle_list)\n",
    "    \n",
    "    return x_obstacle_list, y_obstacle_list, x_obstacle, y_obstacle"
   ]
  },
  {
   "cell_type": "markdown",
   "metadata": {},
   "source": [
    "### Obstacle parameters\n",
    "\n",
    "Defined below in the \"run simulation\" step"
   ]
  },
  {
   "cell_type": "markdown",
   "metadata": {},
   "source": [
    "# Wind\n",
    "\n",
    "### Parameters"
   ]
  },
  {
   "cell_type": "code",
   "execution_count": 301,
   "metadata": {},
   "outputs": [],
   "source": [
    "v0_wind = 0.5 # velocity of wind (constant)\n",
    "v_wind_noise = 0.1 # maximum random fluctuation in wind velocity (in same units as v0_wind)\n",
    "wind_theta = 0 # wind direction "
   ]
  },
  {
   "cell_type": "markdown",
   "metadata": {},
   "source": [
    "### Functions"
   ]
  },
  {
   "cell_type": "code",
   "execution_count": 302,
   "metadata": {},
   "outputs": [],
   "source": [
    "def wind_constant_with_noise(v0_wind, v_wind_noise, wind_theta):\n",
    "    '''\n",
    "    Returns the x, y components of wind based on a constant angle.\n",
    "    '''\n",
    "    # Add random noise to the wind\n",
    "    v0_wind += v_wind_noise * (np.random.rand(1) - 0.5)[0]\n",
    "\n",
    "    # Get x, y velocity components\n",
    "    vx_wind = v0_wind* np.cos(wind_theta)\n",
    "    vy_wind = v0_wind* np.sin(wind_theta)\n",
    "    \n",
    "    return vx_wind, vy_wind"
   ]
  },
  {
   "cell_type": "markdown",
   "metadata": {},
   "source": [
    "# Updating steps"
   ]
  },
  {
   "cell_type": "code",
   "execution_count": 303,
   "metadata": {},
   "outputs": [],
   "source": [
    "def apply_boundary_conditions(x, y, L):\n",
    "    '''\n",
    "    Apply periodic boundary conditions\n",
    "    Creates wrap-around effect, if crossing bounary enter other side \n",
    "    '''\n",
    "    x = x % L\n",
    "    y = y % L\n",
    "    return x, y"
   ]
  },
  {
   "cell_type": "code",
   "execution_count": 304,
   "metadata": {},
   "outputs": [],
   "source": [
    "def update_positions(x, y, vx, vy, dt, L):\n",
    "    '''\n",
    "    Update the positions moving dt in the direction of the velocity\n",
    "    and applying the boundary conditions\n",
    "    '''\n",
    "    \n",
    "    # update positions\n",
    "    x += vx*dt\n",
    "    y += vy*dt\n",
    "    \n",
    "    # apply boundary conditions\n",
    "    x, y = apply_boundary_conditions(x,y,L)\n",
    "    return x, y"
   ]
  },
  {
   "cell_type": "markdown",
   "metadata": {},
   "source": [
    "## Update Angle"
   ]
  },
  {
   "cell_type": "code",
   "execution_count": 305,
   "metadata": {},
   "outputs": [],
   "source": [
    "def get_mean_theta_neighbours(x, y, theta, Rsq, N):\n",
    "    '''\n",
    "    Compute the local average direction in a circle of radius R around\n",
    "    each bird. If there are no neighbours, simply keep same theta.\n",
    "    '''\n",
    "    mean_theta = theta\n",
    "    for bird in range(N):\n",
    "        neighbours = (x-x[bird])**2+(y-y[bird])**2 < Rsq\n",
    "        sum_x = np.sum(np.cos(theta[neighbours]))\n",
    "        sum_y = np.sum(np.sin(theta[neighbours]))\n",
    "        mean_theta[bird] = np.arctan2(sum_y, sum_x)\n",
    "    \n",
    "    return mean_theta\n",
    "\n",
    "def get_obstacles_within_radius(x_bird, y_bird, theta_bird, x_obstacle, y_obstacle, R_obs, fov_angle):\n",
    "    \n",
    "    # Determine if obstacle is in radius\n",
    "    distances_to_obstacles = np.sqrt((x_obstacle - x_bird) ** 2 + (y_obstacle - y_bird)**2)\n",
    "    is_in_radius = distances_to_obstacles <= R_obs\n",
    "    \n",
    "    # Select only object in radius\n",
    "    x_obs_in_radius = x_obstacle[is_in_radius]\n",
    "    y_obs_in_radius = y_obstacle[is_in_radius]\n",
    "    distances = distances_to_obstacles[is_in_radius]\n",
    "    \n",
    "    # Determine if obstacle is in FOV\n",
    "    \n",
    "    # Calculate angle to the obstacle    \n",
    "    delta_x = x_obs_in_radius - x_bird\n",
    "    delta_y = y_obs_in_radius - y_bird\n",
    "    angles_to_obstacles = np.arctan2(delta_y, delta_x)\n",
    "    \n",
    "    # Difference between obstacle and current direction of bird\n",
    "    angle_diff = np.abs(angles_to_obstacles - theta_bird)\n",
    "    \n",
    "    # Filter by field of view\n",
    "    is_in_fov = angle_diff <= fov_angle\n",
    "    x_obs_in_radius = x_obs_in_radius[is_in_fov]\n",
    "    y_obs_in_radius = y_obs_in_radius[is_in_fov]\n",
    "    distances = distances[is_in_fov]\n",
    "    \n",
    "    return x_obs_in_radius, y_obs_in_radius, distances\n"
   ]
  },
  {
   "cell_type": "code",
   "execution_count": 306,
   "metadata": {},
   "outputs": [],
   "source": [
    "def update_theta(x, y, theta, Rsq, x_obstacle, y_obstacle, R_obs, eta, N, fov_angle):\n",
    "    '''\n",
    "    We will do this per bird, since we need to see if each one is within distance of obstacles or not\n",
    "    \n",
    "    '''\n",
    "    # Initialize new theta array\n",
    "    theta_new = theta.copy()\n",
    "    \n",
    "    # Get the mean theta from the neighbours\n",
    "    mean_theta = get_mean_theta_neighbours(x, y, theta, Rsq, N)\n",
    "    \n",
    "    # Update theta based on obstacles\n",
    "    for i in range(N):\n",
    "        # Determine if obstacles in radius\n",
    "        x_obs_in_radius, y_obs_in_radius, distances = get_obstacles_within_radius(x[i], y[i], theta_new[i], x_obstacle, y_obstacle, R_obs, fov_angle)\n",
    "\n",
    "        # Only continue if there are obstacles in radius\n",
    "        if np.any(distances):\n",
    "            \n",
    "            # Naively avoid obstacle by pointing in opposite direction\n",
    "            avoidance_vectors = np.array([x[i] - x_obs_in_radius, y[i] - y_obs_in_radius])\n",
    "\n",
    "            # # Normalise by distance (this should(?) make closer distances more important)\n",
    "            avoidance_vectors = avoidance_vectors/distances\n",
    "\n",
    "            # Sum up the avoidance vectors to get the net avoidance direction\n",
    "            net_avoidance_vector = np.sum(avoidance_vectors, axis=0)\n",
    "            \n",
    "            \n",
    "            # Get angle of avoidance\n",
    "            # There were a lot of errors here\n",
    "            if net_avoidance_vector.size >= 2:\n",
    "                \n",
    "                # Get the angle of the net avoidance vector\n",
    "                avoidance_theta = np.arctan2(net_avoidance_vector[1], net_avoidance_vector[0])\n",
    "\n",
    "                # Calculate weighted average between avoidance theta and mean theta from neighbors\n",
    "                avoidance_weight = 0.9\n",
    "                theta_new[i] = (1 - avoidance_weight) * mean_theta[i] + avoidance_weight * avoidance_theta\n",
    "            \n",
    "            else:\n",
    "                # If that didn't work, just go to mean theta\n",
    "                theta_new[i] = mean_theta[i]\n",
    "    \n",
    "        \n",
    "        # If no obstacle, use theta from neighbours\n",
    "        else:\n",
    "            theta_new[i] = mean_theta[i]\n",
    "        \n",
    "    \n",
    "    theta_new = add_noise_theta(theta_new, eta, N)\n",
    "    \n",
    "    return theta_new"
   ]
  },
  {
   "cell_type": "markdown",
   "metadata": {},
   "source": [
    "## Update Velocity"
   ]
  },
  {
   "cell_type": "code",
   "execution_count": 307,
   "metadata": {},
   "outputs": [],
   "source": [
    "def update_velocities(v0, theta, vx_wind, vy_wind):\n",
    "    '''\n",
    "    Update the velocities given theta, assuming a constant speed v0\n",
    "    '''\n",
    "    vx = v0 * np.cos(theta) + vx_wind\n",
    "    vy = v0 * np.sin(theta) + vy_wind\n",
    "\n",
    "    return vx, vy"
   ]
  },
  {
   "cell_type": "markdown",
   "metadata": {},
   "source": [
    "## Steps and Update Quiver"
   ]
  },
  {
   "cell_type": "code",
   "execution_count": 308,
   "metadata": {},
   "outputs": [],
   "source": [
    "def step(x, y, vx, vy, theta, Rsq, x_obstacle, y_obstacle, eta, fov_angle, N, dt, v0_wind, v_wind_noise, wind_theta):\n",
    "    '''\n",
    "    Compute a step in the dynamics:\n",
    "    - update the positions\n",
    "    - compute the new velocities\n",
    "    '''\n",
    "    x, y = update_positions(x, y, vx, vy, dt, L)\n",
    "    theta = update_theta(x, y, theta, Rsq, x_obstacle, y_obstacle, R_obs, eta, N, fov_angle)\n",
    "    \n",
    "    vx_wind, vy_wind = wind_constant_with_noise(v0_wind, v_wind_noise, wind_theta)\n",
    "    \n",
    "    vx, vy = update_velocities(v0, theta, vx_wind, vy_wind)\n",
    "    \n",
    "    return x, y, vx, vy, vx_wind, vy_wind\n",
    "\n",
    "def update_quiver(q,x,y,vx,vy):\n",
    "    '''\n",
    "    Update a quiver with new position and velocity information\n",
    "    This is only used for plotting\n",
    "    '''\n",
    "    q.set_offsets(np.column_stack([x,y]))\n",
    "    q.set_UVC(vx,vy)\n",
    "    \n",
    "    return q"
   ]
  },
  {
   "cell_type": "markdown",
   "metadata": {},
   "source": [
    "# Run Simulation"
   ]
  },
  {
   "cell_type": "code",
   "execution_count": 317,
   "metadata": {},
   "outputs": [
    {
     "data": {
      "image/png": "[encoded data removed]",
      "text/plain": [
       "<Figure size 800x800 with 1 Axes>"
      ]
     },
     "metadata": {},
     "output_type": "display_data"
    },
    {
     "data": {
      "image/png": "[encoded data removed]",
      "text/plain": [
       "<Figure size 800x800 with 1 Axes>"
      ]
     },
     "metadata": {},
     "output_type": "display_data"
    }
   ],
   "source": [
    "# Set up a figure\n",
    "fig, ax = plt.subplots(figsize = (8,8))\n",
    "\n",
    "# Get obstacles\n",
    "# Number of obstacles\n",
    "num_obstacles = 4\n",
    "nrows = 2\n",
    "ncols = 2\n",
    "\n",
    "x_obstacle_list, y_obstacle_list, x_obstacle, y_obstacle = get_obstacles(L, num_obstacles, nrows, ncols)\n",
    "\n",
    "# Plot obstacle(s) - Plot the \"list\" to visualise the different obstaclces properly\n",
    "for xx, yy in zip(x_obstacle_list, y_obstacle_list):\n",
    "    ax.plot(xx, yy, 'r-')\n",
    "\n",
    "# Get the initial configuration\n",
    "# x, y, vx, vy, theta = initialize_birds_random(N, L, v0)\n",
    "theta_start = np.pi/2\n",
    "x, y, vx, vy, theta = initialize_birds_uniform(N, L, v0, theta_start, eta)\n",
    "\n",
    "# Plot initial quivers\n",
    "q = plt.quiver(x,y,vx,vy)\n",
    "\n",
    "# Set figure parameters\n",
    "ax.set(xlim=(0, L), ylim=(0, L))\n",
    "ax.set_aspect('equal')\n",
    "ax.get_xaxis().set_visible(False)\n",
    "ax.get_yaxis().set_visible(False)\n",
    "\n",
    "# Initilise lists to plot later\n",
    "vx_wind_list = []\n",
    "vy_wind_list = []\n",
    "\n",
    "# Do each step, updating the quiver and plotting the new one\n",
    "for i in range(Nt):\n",
    "    # print(i)\n",
    "    x, y, vx, vy, vx_wind, vy_wind = step(x, y, vx, vy, theta, Rsq, x_obstacle, y_obstacle, eta, fov_angle, N, dt, v0_wind, v_wind_noise, wind_theta=np.pi/3)\n",
    "    q = update_quiver(q, x, y, vx, vy)\n",
    "    clear_output(wait=True)\n",
    "    display(fig)\n",
    "    \n",
    "    # Append wind information\\\n",
    "    vx_wind_list.append(vx_wind)    \n",
    "    vy_wind_list.append(vy_wind)"
   ]
  },
  {
   "cell_type": "markdown",
   "metadata": {},
   "source": [
    "# Plot Wind"
   ]
  },
  {
   "cell_type": "code",
   "execution_count": 310,
   "metadata": {},
   "outputs": [
    {
     "data": {
      "image/png": "[encoded data removed]",
      "text/plain": [
       "<Figure size 640x480 with 1 Axes>"
      ]
     },
     "metadata": {},
     "output_type": "display_data"
    }
   ],
   "source": [
    "fig, ax = plt.subplots()\n",
    "\n",
    "time = np.arange(0, Nt * dt, dt)\n",
    "\n",
    "ax.plot(time, vx_wind_list, label = 'vx wind')\n",
    "ax.plot(time, vy_wind_list, label = 'vy wind')\n",
    "\n",
    "ax.set_xlabel('Time [unit ?]')\n",
    "ax.set_ylabel('Velocity [unit ?]')\n",
    "\n",
    "ax.legend()\n",
    "\n",
    "plt.show()"
   ]
  }
 ],
 "metadata": {
  "kernelspec": {
   "display_name": "py312",
   "language": "python",
   "name": "python3"
  },
  "language_info": {
   "codemirror_mode": {
    "name": "ipython",
    "version": 3
   },
   "file_extension": ".py",
   "mimetype": "text/x-python",
   "name": "python",
   "nbconvert_exporter": "python",
   "pygments_lexer": "ipython3",
   "version": "3.12.5"
  }
 },
 "nbformat": 4,
 "nbformat_minor": 2
}
